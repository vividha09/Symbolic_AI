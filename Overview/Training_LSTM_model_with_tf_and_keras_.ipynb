{
  "nbformat": 4,
  "nbformat_minor": 0,
  "metadata": {
    "colab": {
      "provenance": []
    },
    "kernelspec": {
      "name": "python3",
      "display_name": "Python 3"
    },
    "language_info": {
      "name": "python"
    }
  },
  "cells": [
    {
      "cell_type": "code",
      "source": [
        "import numpy as np\n",
        "\n",
        "def taylor_sin(x, n=5):\n",
        "    \"\"\"Compute the Taylor expansion of sin(x) around x=0 up to order n.\"\"\"\n",
        "    res = 0\n",
        "    for i in range(n):\n",
        "        res += ((-1)**i / np.math.factorial(2*i + 1)) * x**(2*i + 1)\n",
        "    return res\n",
        "\n",
        "# Generate a dataset of input-output pairs\n",
        "X_train = np.linspace(-np.pi, np.pi, 1000)\n",
        "y_train = np.array([taylor_sin(x) for x in X_train])\n"
      ],
      "metadata": {
        "id": "z_yhqk4RZ0fH"
      },
      "execution_count": null,
      "outputs": []
    },
    {
      "cell_type": "code",
      "source": [
        "n_steps = 10\n",
        "\n",
        "def prepare_data(X, y, n_steps):\n",
        "    X_seq, y_seq = [], []\n",
        "    for i in range(len(X) - n_steps):\n",
        "        X_seq.append(X[i:i+n_steps])\n",
        "        y_seq.append(y[i:i+n_steps])\n",
        "    return np.array(X_seq), np.array(y_seq)\n",
        "\n",
        "# Prepare the training data\n",
        "X_train_seq, y_train_seq = prepare_data(X_train, y_train, n_steps)\n"
      ],
      "metadata": {
        "id": "WmuDeKHSZ0kT"
      },
      "execution_count": null,
      "outputs": []
    },
    {
      "cell_type": "code",
      "source": [
        "from tensorflow.keras.models import Sequential\n",
        "from tensorflow.keras.layers import LSTM, Dense\n",
        "\n",
        "# Define the LSTM model\n",
        "model = Sequential([\n",
        "    LSTM(64, activation='relu', input_shape=(n_steps, 1)),\n",
        "    Dense(1)\n",
        "])\n",
        "\n",
        "# Compile the model\n",
        "model.compile(optimizer='adam', loss='mse')\n"
      ],
      "metadata": {
        "id": "qAAvrx6NZ0mo"
      },
      "execution_count": null,
      "outputs": []
    },
    {
      "cell_type": "code",
      "source": [
        "# Train the model\n",
        "model.fit(X_train_seq, y_train_seq, epochs=100, batch_size=32)\n"
      ],
      "metadata": {
        "colab": {
          "base_uri": "https://localhost:8080/"
        },
        "id": "VfS6xrwwZ0pD",
        "outputId": "87dfcc04-6088-4ff7-dd3b-7b75f4430d2f"
      },
      "execution_count": null,
      "outputs": [
        {
          "output_type": "stream",
          "name": "stdout",
          "text": [
            "Epoch 1/100\n",
            "31/31 [==============================] - 2s 8ms/step - loss: 0.2690\n",
            "Epoch 2/100\n",
            "31/31 [==============================] - 0s 8ms/step - loss: 0.1558\n",
            "Epoch 3/100\n",
            "31/31 [==============================] - 0s 8ms/step - loss: 0.1102\n",
            "Epoch 4/100\n",
            "31/31 [==============================] - 0s 8ms/step - loss: 0.0477\n",
            "Epoch 5/100\n",
            "31/31 [==============================] - 0s 8ms/step - loss: 0.0024\n",
            "Epoch 6/100\n",
            "31/31 [==============================] - 0s 9ms/step - loss: 4.7194e-04\n",
            "Epoch 7/100\n",
            "31/31 [==============================] - 0s 8ms/step - loss: 2.3293e-04\n",
            "Epoch 8/100\n",
            "31/31 [==============================] - 0s 8ms/step - loss: 1.7432e-04\n",
            "Epoch 9/100\n",
            "31/31 [==============================] - 0s 9ms/step - loss: 1.7085e-04\n",
            "Epoch 10/100\n",
            "31/31 [==============================] - 0s 8ms/step - loss: 1.6789e-04\n",
            "Epoch 11/100\n",
            "31/31 [==============================] - 0s 8ms/step - loss: 1.6644e-04\n",
            "Epoch 12/100\n",
            "31/31 [==============================] - 0s 10ms/step - loss: 1.6641e-04\n",
            "Epoch 13/100\n",
            "31/31 [==============================] - 0s 10ms/step - loss: 1.6653e-04\n",
            "Epoch 14/100\n",
            "31/31 [==============================] - 0s 9ms/step - loss: 1.6678e-04\n",
            "Epoch 15/100\n",
            "31/31 [==============================] - 0s 8ms/step - loss: 1.6489e-04\n",
            "Epoch 16/100\n",
            "31/31 [==============================] - 0s 9ms/step - loss: 1.6431e-04\n",
            "Epoch 17/100\n",
            "31/31 [==============================] - 0s 9ms/step - loss: 1.6411e-04\n",
            "Epoch 18/100\n",
            "31/31 [==============================] - 0s 8ms/step - loss: 1.6359e-04\n",
            "Epoch 19/100\n",
            "31/31 [==============================] - 0s 7ms/step - loss: 1.6564e-04\n",
            "Epoch 20/100\n",
            "31/31 [==============================] - 0s 8ms/step - loss: 1.6522e-04\n",
            "Epoch 21/100\n",
            "31/31 [==============================] - 0s 8ms/step - loss: 1.6320e-04\n",
            "Epoch 22/100\n",
            "31/31 [==============================] - 0s 8ms/step - loss: 1.6278e-04\n",
            "Epoch 23/100\n",
            "31/31 [==============================] - 0s 8ms/step - loss: 1.6295e-04\n",
            "Epoch 24/100\n",
            "31/31 [==============================] - 0s 8ms/step - loss: 1.6313e-04\n",
            "Epoch 25/100\n",
            "31/31 [==============================] - 0s 9ms/step - loss: 1.6349e-04\n",
            "Epoch 26/100\n",
            "31/31 [==============================] - 0s 8ms/step - loss: 1.6364e-04\n",
            "Epoch 27/100\n",
            "31/31 [==============================] - 0s 8ms/step - loss: 1.6271e-04\n",
            "Epoch 28/100\n",
            "31/31 [==============================] - 0s 8ms/step - loss: 1.6228e-04\n",
            "Epoch 29/100\n",
            "31/31 [==============================] - 0s 9ms/step - loss: 1.6313e-04\n",
            "Epoch 30/100\n",
            "31/31 [==============================] - 0s 8ms/step - loss: 1.6305e-04\n",
            "Epoch 31/100\n",
            "31/31 [==============================] - 0s 11ms/step - loss: 1.6521e-04\n",
            "Epoch 32/100\n",
            "31/31 [==============================] - 0s 13ms/step - loss: 1.6580e-04\n",
            "Epoch 33/100\n",
            "31/31 [==============================] - 0s 13ms/step - loss: 1.7048e-04\n",
            "Epoch 34/100\n",
            "31/31 [==============================] - 0s 14ms/step - loss: 1.9237e-04\n",
            "Epoch 35/100\n",
            "31/31 [==============================] - 0s 13ms/step - loss: 1.6504e-04\n",
            "Epoch 36/100\n",
            "31/31 [==============================] - 0s 13ms/step - loss: 1.6881e-04\n",
            "Epoch 37/100\n",
            "31/31 [==============================] - 0s 14ms/step - loss: 1.7810e-04\n",
            "Epoch 38/100\n",
            "31/31 [==============================] - 0s 10ms/step - loss: 1.8226e-04\n",
            "Epoch 39/100\n",
            "31/31 [==============================] - 0s 8ms/step - loss: 2.3187e-04\n",
            "Epoch 40/100\n",
            "31/31 [==============================] - 0s 8ms/step - loss: 2.0495e-04\n",
            "Epoch 41/100\n",
            "31/31 [==============================] - 0s 8ms/step - loss: 2.4672e-04\n",
            "Epoch 42/100\n",
            "31/31 [==============================] - 0s 8ms/step - loss: 2.0221e-04\n",
            "Epoch 43/100\n",
            "31/31 [==============================] - 0s 8ms/step - loss: 1.7017e-04\n",
            "Epoch 44/100\n",
            "31/31 [==============================] - 0s 9ms/step - loss: 1.7271e-04\n",
            "Epoch 45/100\n",
            "31/31 [==============================] - 0s 8ms/step - loss: 1.6342e-04\n",
            "Epoch 46/100\n",
            "31/31 [==============================] - 0s 8ms/step - loss: 1.6405e-04\n",
            "Epoch 47/100\n",
            "31/31 [==============================] - 0s 8ms/step - loss: 1.7172e-04\n",
            "Epoch 48/100\n",
            "31/31 [==============================] - 0s 9ms/step - loss: 4.5665e-04\n",
            "Epoch 49/100\n",
            "31/31 [==============================] - 0s 8ms/step - loss: 2.1966e-04\n",
            "Epoch 50/100\n",
            "31/31 [==============================] - 0s 8ms/step - loss: 1.7607e-04\n",
            "Epoch 51/100\n",
            "31/31 [==============================] - 0s 8ms/step - loss: 1.6523e-04\n",
            "Epoch 52/100\n",
            "31/31 [==============================] - 0s 9ms/step - loss: 1.6305e-04\n",
            "Epoch 53/100\n",
            "31/31 [==============================] - 0s 8ms/step - loss: 1.6247e-04\n",
            "Epoch 54/100\n",
            "31/31 [==============================] - 0s 8ms/step - loss: 1.6338e-04\n",
            "Epoch 55/100\n",
            "31/31 [==============================] - 0s 8ms/step - loss: 1.6374e-04\n",
            "Epoch 56/100\n",
            "31/31 [==============================] - 0s 8ms/step - loss: 1.6336e-04\n",
            "Epoch 57/100\n",
            "31/31 [==============================] - 0s 8ms/step - loss: 1.6826e-04\n",
            "Epoch 58/100\n",
            "31/31 [==============================] - 0s 8ms/step - loss: 1.8018e-04\n",
            "Epoch 59/100\n",
            "31/31 [==============================] - 0s 8ms/step - loss: 2.1907e-04\n",
            "Epoch 60/100\n",
            "31/31 [==============================] - 0s 9ms/step - loss: 1.8979e-04\n",
            "Epoch 61/100\n",
            "31/31 [==============================] - 0s 8ms/step - loss: 1.6349e-04\n",
            "Epoch 62/100\n",
            "31/31 [==============================] - 0s 8ms/step - loss: 1.6910e-04\n",
            "Epoch 63/100\n",
            "31/31 [==============================] - 0s 8ms/step - loss: 1.7227e-04\n",
            "Epoch 64/100\n",
            "31/31 [==============================] - 0s 9ms/step - loss: 2.3986e-04\n",
            "Epoch 65/100\n",
            "31/31 [==============================] - 0s 8ms/step - loss: 4.3576e-04\n",
            "Epoch 66/100\n",
            "31/31 [==============================] - 0s 8ms/step - loss: 3.2175e-04\n",
            "Epoch 67/100\n",
            "31/31 [==============================] - 0s 8ms/step - loss: 4.8017e-04\n",
            "Epoch 68/100\n",
            "31/31 [==============================] - 0s 8ms/step - loss: 0.0011\n",
            "Epoch 69/100\n",
            "31/31 [==============================] - 0s 8ms/step - loss: 4.3617e-04\n",
            "Epoch 70/100\n",
            "31/31 [==============================] - 0s 8ms/step - loss: 2.8669e-04\n",
            "Epoch 71/100\n",
            "31/31 [==============================] - 0s 8ms/step - loss: 2.0613e-04\n",
            "Epoch 72/100\n",
            "31/31 [==============================] - 0s 8ms/step - loss: 1.7754e-04\n",
            "Epoch 73/100\n",
            "31/31 [==============================] - 0s 8ms/step - loss: 1.6498e-04\n",
            "Epoch 74/100\n",
            "31/31 [==============================] - 0s 9ms/step - loss: 1.8811e-04\n",
            "Epoch 75/100\n",
            "31/31 [==============================] - 0s 8ms/step - loss: 1.8595e-04\n",
            "Epoch 76/100\n",
            "31/31 [==============================] - 0s 11ms/step - loss: 1.6809e-04\n",
            "Epoch 77/100\n",
            "31/31 [==============================] - 0s 13ms/step - loss: 1.6323e-04\n",
            "Epoch 78/100\n",
            "31/31 [==============================] - 0s 13ms/step - loss: 1.6211e-04\n",
            "Epoch 79/100\n",
            "31/31 [==============================] - 0s 14ms/step - loss: 1.6775e-04\n",
            "Epoch 80/100\n",
            "31/31 [==============================] - 0s 13ms/step - loss: 1.6421e-04\n",
            "Epoch 81/100\n",
            "31/31 [==============================] - 0s 14ms/step - loss: 1.6209e-04\n",
            "Epoch 82/100\n",
            "31/31 [==============================] - 0s 13ms/step - loss: 1.6302e-04\n",
            "Epoch 83/100\n",
            "31/31 [==============================] - 0s 11ms/step - loss: 1.6804e-04\n",
            "Epoch 84/100\n",
            "31/31 [==============================] - 0s 8ms/step - loss: 1.6732e-04\n",
            "Epoch 85/100\n",
            "31/31 [==============================] - 0s 8ms/step - loss: 1.6280e-04\n",
            "Epoch 86/100\n",
            "31/31 [==============================] - 0s 8ms/step - loss: 1.6326e-04\n",
            "Epoch 87/100\n",
            "31/31 [==============================] - 0s 8ms/step - loss: 1.6442e-04\n",
            "Epoch 88/100\n",
            "31/31 [==============================] - 0s 8ms/step - loss: 1.6525e-04\n",
            "Epoch 89/100\n",
            "31/31 [==============================] - 0s 8ms/step - loss: 1.6638e-04\n",
            "Epoch 90/100\n",
            "31/31 [==============================] - 0s 8ms/step - loss: 1.7099e-04\n",
            "Epoch 91/100\n",
            "31/31 [==============================] - 0s 9ms/step - loss: 1.6970e-04\n",
            "Epoch 92/100\n",
            "31/31 [==============================] - 0s 8ms/step - loss: 1.6771e-04\n",
            "Epoch 93/100\n",
            "31/31 [==============================] - 0s 9ms/step - loss: 1.6797e-04\n",
            "Epoch 94/100\n",
            "31/31 [==============================] - 0s 8ms/step - loss: 1.6177e-04\n",
            "Epoch 95/100\n",
            "31/31 [==============================] - 0s 9ms/step - loss: 1.6259e-04\n",
            "Epoch 96/100\n",
            "31/31 [==============================] - 0s 8ms/step - loss: 1.6502e-04\n",
            "Epoch 97/100\n",
            "31/31 [==============================] - 0s 9ms/step - loss: 1.7203e-04\n",
            "Epoch 98/100\n",
            "31/31 [==============================] - 0s 9ms/step - loss: 2.0976e-04\n",
            "Epoch 99/100\n",
            "31/31 [==============================] - 0s 8ms/step - loss: 1.9172e-04\n",
            "Epoch 100/100\n",
            "31/31 [==============================] - 0s 9ms/step - loss: 1.8402e-04\n"
          ]
        },
        {
          "output_type": "execute_result",
          "data": {
            "text/plain": [
              "<keras.callbacks.History at 0x7fb4ccd85220>"
            ]
          },
          "metadata": {},
          "execution_count": 5
        }
      ]
    },
    {
      "cell_type": "code",
      "source": [
        "import matplotlib.pyplot as plt\n",
        "\n",
        "# Generate predictions\n",
        "X_test = np.linspace(-np.pi, np.pi, 100)\n",
        "y_test = np.array([taylor_sin(x) for x in X_test])\n",
        "X_test_seq, y_test_seq = prepare_data(X_test, y_test, n_steps)\n",
        "y_pred_seq = model.predict(X_test_seq)\n",
        "\n",
        "# Plot the results\n",
        "plt.plot(X_test, y_test, label='Ground Truth')\n",
        "plt.plot(X_test[n_steps:], y_pred_seq[:, -1], label='Predictions')\n",
        "plt.legend()\n",
        "plt.show()\n"
      ],
      "metadata": {
        "colab": {
          "base_uri": "https://localhost:8080/",
          "height": 282
        },
        "id": "TSMWTVJDZ0rp",
        "outputId": "0db21c0c-f6be-43c4-b792-ea5b2c514019"
      },
      "execution_count": null,
      "outputs": [
        {
          "output_type": "stream",
          "name": "stdout",
          "text": [
            "3/3 [==============================] - 0s 8ms/step\n"
          ]
        },
        {
          "output_type": "display_data",
          "data": {
            "text/plain": [
              "<Figure size 432x288 with 1 Axes>"
            ],
            "image/png": "[encoded data removed]"
          },
          "metadata": {
            "needs_background": "light"
          }
        }
      ]
    },
    {
      "cell_type": "code",
      "source": [],
      "metadata": {
        "id": "mA9gOvPuZ0vK"
      },
      "execution_count": null,
      "outputs": []
    }
  ]
}