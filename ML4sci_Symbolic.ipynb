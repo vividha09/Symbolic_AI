{
  "cells": [
    {
      "cell_type": "markdown",
      "metadata": {
        "id": "ntHr9u3j1bHY"
      },
      "source": [
        "#TASK 1: Dataset preprocessing\n"
      ]
    },
    {
      "cell_type": "markdown",
      "source": [
        "Used SymPy to generate datasets of functions along with their Taylor expansions up to the fourth order."
      ],
      "metadata": {
        "id": "1VSLhhgFmKSs"
      }
    },
    {
      "cell_type": "code",
      "source": [
        "import sympy as sp\n",
        "import pandas as pd"
      ],
      "metadata": {
        "id": "EhAodwZbfEaN"
      },
      "execution_count": 18,
      "outputs": []
    },
    {
      "cell_type": "code",
      "execution_count": 19,
      "metadata": {
        "id": "EQaj0kFg5pGU"
      },
      "outputs": [],
      "source": [
        "x = sp.Symbol('x')\n",
        "\n",
        "functions = [\n",
        "    sp.sin(x), sp.cos(x), sp.exp(x), sp.log(x + 1), sp.sqrt(x),\n",
        "    sp.tan(x), sp.sec(x), sp.csc(x), sp.cot(x),\n",
        "    sp.atan(x), sp.asin(x), sp.acos(x),\n",
        "    sp.sinh(x), sp.cosh(x), sp.tanh(x), sp.sech(x), sp.csch(x), sp.coth(x),\n",
        "    x**2, x**3, x**4,\n",
        "    x**5, sp.sin(x) * sp.exp(x), sp.log(x + 1) + sp.cos(x), sp.sqrt(x) * sp.log(x + 1),\n",
        "    sp.tan(x) ** 2, (sp.sec(x) - 1) ** 2, sp.csc(x) + x, sp.cot(x) * x,\n",
        "    sp.atan(x ** 2), sp.asin(x / 2), sp.acos(x / 3),\n",
        "    sp.sinh(x) / x, sp.cosh(x) + x, sp.tanh(x) ** 2, sp.sech(x) ** 2, sp.csch(x) * x, sp.coth(x) / x,\n",
        "    x**6, x**7, x**(1/2), x**(1/3), x**(-1), x**(-2),\n",
        "    x**2 * sp.sin(x), x * sp.cosh(x),\n",
        "    sp.asin(x**2), sp.atanh(sp.sqrt(x)),\n",
        "    sp.log(x, 2) + 1, sp.exp(x**2 - 1),\n",
        "    sp.Abs(x), sp.sign(x),\n",
        "    sp.sqrt(x**2 + sp.sin(x)),\n",
        "]"
      ]
    },
    {
      "cell_type": "code",
      "source": [
        "data = []\n",
        "for func in functions:\n",
        "    taylor_expansion = func.series(x, 0, 5).removeO()\n",
        "    data.append({'Function': func, 'Taylor_Expansion': taylor_expansion})\n",
        "\n",
        "df = pd.DataFrame(data)\n",
        "\n",
        "df.to_csv('function_dataset.csv', index=False)"
      ],
      "metadata": {
        "id": "SwnMm6bbfKGH"
      },
      "execution_count": 20,
      "outputs": []
    },
    {
      "cell_type": "code",
      "execution_count": 21,
      "metadata": {
        "colab": {
          "base_uri": "https://localhost:8080/"
        },
        "id": "r5pZ5b_6rsig",
        "outputId": "4ced3b2c-66f7-4e43-d035-e979559e3ff9"
      },
      "outputs": [
        {
          "output_type": "stream",
          "name": "stderr",
          "text": [
            "[nltk_data] Downloading package punkt to /root/nltk_data...\n",
            "[nltk_data]   Package punkt is already up-to-date!\n"
          ]
        }
      ],
      "source": [
        "import nltk\n",
        "nltk.download('punkt')\n",
        "from nltk.tokenize import word_tokenize"
      ]
    },
    {
      "cell_type": "markdown",
      "source": [
        "Tokenized the dataset\n"
      ],
      "metadata": {
        "id": "ViYi6Nj5mCnU"
      }
    },
    {
      "cell_type": "code",
      "execution_count": 22,
      "metadata": {
        "id": "2JCy4_HWrElP"
      },
      "outputs": [],
      "source": [
        "df = pd.read_csv('function_dataset.csv')\n",
        "\n",
        "df['Function_Tokens'] = df['Function'].apply(lambda func: word_tokenize(str(func)))\n",
        "df['Taylor_Expansion_Tokens'] = df['Taylor_Expansion'].apply(lambda taylor_exp: word_tokenize(str(taylor_exp)))\n",
        "\n",
        "df.to_csv('tokenized_function_dataset.csv', index=False)"
      ]
    },
    {
      "cell_type": "markdown",
      "metadata": {
        "id": "poPo_xif1vcQ"
      },
      "source": [
        "#TASK 2: Use LSTM model\n"
      ]
    },
    {
      "cell_type": "code",
      "source": [
        "import numpy as np\n",
        "from tensorflow.keras.models import Sequential\n",
        "from tensorflow.keras.layers import LSTM, Dense, Embedding\n",
        "from tensorflow.keras.preprocessing.sequence import pad_sequences\n",
        "from sklearn.model_selection import train_test_split"
      ],
      "metadata": {
        "id": "ZC5QXFxxfspZ"
      },
      "execution_count": 23,
      "outputs": []
    },
    {
      "cell_type": "code",
      "execution_count": 37,
      "metadata": {
        "id": "Zgsu43Kdtsiz"
      },
      "outputs": [],
      "source": [
        "df = pd.read_csv('tokenized_function_dataset.csv')\n",
        "\n",
        "vocab = set()\n",
        "for tokens in df['Function_Tokens']:\n",
        "    vocab.update(tokens)\n",
        "for tokens in df['Taylor_Expansion_Tokens']:\n",
        "    vocab.update(tokens)\n",
        "\n",
        "word2idx = {word: idx + 1 for idx, word in enumerate(vocab)}\n",
        "idx2word = {idx: word for word, idx in word2idx.items()}"
      ]
    },
    {
      "cell_type": "code",
      "execution_count": 38,
      "metadata": {
        "id": "i2pY1bO6tzU8"
      },
      "outputs": [],
      "source": [
        "X = [[word2idx[word] for word in tokens] for tokens in df['Function_Tokens']]\n",
        "y = [[word2idx[word] for word in tokens] for tokens in df['Taylor_Expansion_Tokens']]\n",
        "\n",
        "max_len = max(max(len(seq) for seq in X), max(len(seq) for seq in y))\n",
        "X = pad_sequences(X, maxlen=max_len, padding='post')\n",
        "y = pad_sequences(y, maxlen=max_len, padding='post')\n"
      ]
    },
    {
      "cell_type": "code",
      "execution_count": 39,
      "metadata": {
        "id": "Ckdqt8Xmu-E5"
      },
      "outputs": [],
      "source": [
        "X_train, X_val, y_train, y_val = train_test_split(X, y, test_size=0.2, random_state=42)"
      ]
    },
    {
      "cell_type": "code",
      "execution_count": 44,
      "metadata": {
        "colab": {
          "base_uri": "https://localhost:8080/"
        },
        "id": "31hp-SmOrhtz",
        "outputId": "d29a9a19-62b2-4a59-d7b8-d5e247eef0e5"
      },
      "outputs": [
        {
          "output_type": "stream",
          "name": "stdout",
          "text": [
            "Epoch 1/110\n",
            "1/1 [==============================] - 5s 5s/step - loss: 3.6814 - val_loss: 3.6487\n",
            "Epoch 2/110\n",
            "1/1 [==============================] - 0s 130ms/step - loss: 3.6487 - val_loss: 3.6135\n",
            "Epoch 3/110\n",
            "1/1 [==============================] - 0s 116ms/step - loss: 3.6135 - val_loss: 3.5718\n",
            "Epoch 4/110\n",
            "1/1 [==============================] - 0s 99ms/step - loss: 3.5718 - val_loss: 3.5177\n",
            "Epoch 5/110\n",
            "1/1 [==============================] - 0s 66ms/step - loss: 3.5177 - val_loss: 3.4400\n",
            "Epoch 6/110\n",
            "1/1 [==============================] - 0s 100ms/step - loss: 3.4400 - val_loss: 3.3139\n",
            "Epoch 7/110\n",
            "1/1 [==============================] - 0s 108ms/step - loss: 3.3140 - val_loss: 3.0709\n",
            "Epoch 8/110\n",
            "1/1 [==============================] - 0s 110ms/step - loss: 3.0707 - val_loss: 2.5131\n",
            "Epoch 9/110\n",
            "1/1 [==============================] - 0s 111ms/step - loss: 2.5116 - val_loss: 1.8013\n",
            "Epoch 10/110\n",
            "1/1 [==============================] - 0s 117ms/step - loss: 1.7928 - val_loss: 1.4038\n",
            "Epoch 11/110\n",
            "1/1 [==============================] - 0s 119ms/step - loss: 1.3868 - val_loss: 1.2511\n",
            "Epoch 12/110\n",
            "1/1 [==============================] - 0s 113ms/step - loss: 1.2338 - val_loss: 1.2103\n",
            "Epoch 13/110\n",
            "1/1 [==============================] - 0s 113ms/step - loss: 1.1917 - val_loss: 1.2151\n",
            "Epoch 14/110\n",
            "1/1 [==============================] - 0s 136ms/step - loss: 1.1909 - val_loss: 1.2322\n",
            "Epoch 15/110\n",
            "1/1 [==============================] - 0s 120ms/step - loss: 1.2021 - val_loss: 1.2475\n",
            "Epoch 16/110\n",
            "1/1 [==============================] - 0s 123ms/step - loss: 1.2126 - val_loss: 1.2552\n",
            "Epoch 17/110\n",
            "1/1 [==============================] - 0s 114ms/step - loss: 1.2170 - val_loss: 1.2539\n",
            "Epoch 18/110\n",
            "1/1 [==============================] - 0s 109ms/step - loss: 1.2137 - val_loss: 1.2442\n",
            "Epoch 19/110\n",
            "1/1 [==============================] - 0s 107ms/step - loss: 1.2028 - val_loss: 1.2273\n",
            "Epoch 20/110\n",
            "1/1 [==============================] - 0s 113ms/step - loss: 1.1854 - val_loss: 1.2053\n",
            "Epoch 21/110\n",
            "1/1 [==============================] - 0s 114ms/step - loss: 1.1634 - val_loss: 1.1801\n",
            "Epoch 22/110\n",
            "1/1 [==============================] - 0s 120ms/step - loss: 1.1388 - val_loss: 1.1542\n",
            "Epoch 23/110\n",
            "1/1 [==============================] - 0s 119ms/step - loss: 1.1137 - val_loss: 1.1298\n",
            "Epoch 24/110\n",
            "1/1 [==============================] - 0s 113ms/step - loss: 1.0904 - val_loss: 1.1093\n",
            "Epoch 25/110\n",
            "1/1 [==============================] - 0s 69ms/step - loss: 1.0711 - val_loss: 1.0945\n",
            "Epoch 26/110\n",
            "1/1 [==============================] - 0s 107ms/step - loss: 1.0577 - val_loss: 1.0863\n",
            "Epoch 27/110\n",
            "1/1 [==============================] - 0s 112ms/step - loss: 1.0510 - val_loss: 1.0844\n",
            "Epoch 28/110\n",
            "1/1 [==============================] - 0s 117ms/step - loss: 1.0505 - val_loss: 1.0867\n",
            "Epoch 29/110\n",
            "1/1 [==============================] - 0s 120ms/step - loss: 1.0540 - val_loss: 1.0902\n",
            "Epoch 30/110\n",
            "1/1 [==============================] - 0s 123ms/step - loss: 1.0584 - val_loss: 1.0918\n",
            "Epoch 31/110\n",
            "1/1 [==============================] - 0s 123ms/step - loss: 1.0608 - val_loss: 1.0902\n",
            "Epoch 32/110\n",
            "1/1 [==============================] - 0s 115ms/step - loss: 1.0594 - val_loss: 1.0853\n",
            "Epoch 33/110\n",
            "1/1 [==============================] - 0s 125ms/step - loss: 1.0544 - val_loss: 1.0782\n",
            "Epoch 34/110\n",
            "1/1 [==============================] - 0s 116ms/step - loss: 1.0469 - val_loss: 1.0706\n",
            "Epoch 35/110\n",
            "1/1 [==============================] - 0s 125ms/step - loss: 1.0387 - val_loss: 1.0640\n",
            "Epoch 36/110\n",
            "1/1 [==============================] - 0s 124ms/step - loss: 1.0313 - val_loss: 1.0593\n",
            "Epoch 37/110\n",
            "1/1 [==============================] - 0s 116ms/step - loss: 1.0257 - val_loss: 1.0567\n",
            "Epoch 38/110\n",
            "1/1 [==============================] - 0s 116ms/step - loss: 1.0223 - val_loss: 1.0560\n",
            "Epoch 39/110\n",
            "1/1 [==============================] - 0s 117ms/step - loss: 1.0209 - val_loss: 1.0566\n",
            "Epoch 40/110\n",
            "1/1 [==============================] - 0s 103ms/step - loss: 1.0208 - val_loss: 1.0575\n",
            "Epoch 41/110\n",
            "1/1 [==============================] - 0s 118ms/step - loss: 1.0212 - val_loss: 1.0582\n",
            "Epoch 42/110\n",
            "1/1 [==============================] - 0s 110ms/step - loss: 1.0216 - val_loss: 1.0580\n",
            "Epoch 43/110\n",
            "1/1 [==============================] - 0s 146ms/step - loss: 1.0213 - val_loss: 1.0569\n",
            "Epoch 44/110\n",
            "1/1 [==============================] - 0s 181ms/step - loss: 1.0203 - val_loss: 1.0547\n",
            "Epoch 45/110\n",
            "1/1 [==============================] - 0s 141ms/step - loss: 1.0184 - val_loss: 1.0518\n",
            "Epoch 46/110\n",
            "1/1 [==============================] - 0s 181ms/step - loss: 1.0158 - val_loss: 1.0483\n",
            "Epoch 47/110\n",
            "1/1 [==============================] - 0s 186ms/step - loss: 1.0130 - val_loss: 1.0448\n",
            "Epoch 48/110\n",
            "1/1 [==============================] - 0s 186ms/step - loss: 1.0102 - val_loss: 1.0418\n",
            "Epoch 49/110\n",
            "1/1 [==============================] - 0s 173ms/step - loss: 1.0080 - val_loss: 1.0400\n",
            "Epoch 50/110\n",
            "1/1 [==============================] - 0s 152ms/step - loss: 1.0070 - val_loss: 1.0390\n",
            "Epoch 51/110\n",
            "1/1 [==============================] - 0s 157ms/step - loss: 1.0067 - val_loss: 1.0382\n",
            "Epoch 52/110\n",
            "1/1 [==============================] - 0s 140ms/step - loss: 1.0062 - val_loss: 1.0372\n",
            "Epoch 53/110\n",
            "1/1 [==============================] - 0s 158ms/step - loss: 1.0053 - val_loss: 1.0359\n",
            "Epoch 54/110\n",
            "1/1 [==============================] - 0s 138ms/step - loss: 1.0039 - val_loss: 1.0348\n",
            "Epoch 55/110\n",
            "1/1 [==============================] - 0s 145ms/step - loss: 1.0026 - val_loss: 1.0339\n",
            "Epoch 56/110\n",
            "1/1 [==============================] - 0s 134ms/step - loss: 1.0015 - val_loss: 1.0332\n",
            "Epoch 57/110\n",
            "1/1 [==============================] - 0s 192ms/step - loss: 1.0004 - val_loss: 1.0324\n",
            "Epoch 58/110\n",
            "1/1 [==============================] - 0s 130ms/step - loss: 0.9993 - val_loss: 1.0316\n",
            "Epoch 59/110\n",
            "1/1 [==============================] - 0s 137ms/step - loss: 0.9981 - val_loss: 1.0307\n",
            "Epoch 60/110\n",
            "1/1 [==============================] - 0s 99ms/step - loss: 0.9969 - val_loss: 1.0299\n",
            "Epoch 61/110\n",
            "1/1 [==============================] - 0s 113ms/step - loss: 0.9957 - val_loss: 1.0290\n",
            "Epoch 62/110\n",
            "1/1 [==============================] - 0s 97ms/step - loss: 0.9945 - val_loss: 1.0279\n",
            "Epoch 63/110\n",
            "1/1 [==============================] - 0s 115ms/step - loss: 0.9932 - val_loss: 1.0266\n",
            "Epoch 64/110\n",
            "1/1 [==============================] - 0s 105ms/step - loss: 0.9917 - val_loss: 1.0250\n",
            "Epoch 65/110\n",
            "1/1 [==============================] - 0s 126ms/step - loss: 0.9900 - val_loss: 1.0230\n",
            "Epoch 66/110\n",
            "1/1 [==============================] - 0s 135ms/step - loss: 0.9878 - val_loss: 1.0209\n",
            "Epoch 67/110\n",
            "1/1 [==============================] - 0s 112ms/step - loss: 0.9851 - val_loss: 1.0199\n",
            "Epoch 68/110\n",
            "1/1 [==============================] - 0s 110ms/step - loss: 0.9840 - val_loss: 1.0190\n",
            "Epoch 69/110\n",
            "1/1 [==============================] - 0s 113ms/step - loss: 0.9835 - val_loss: 1.0161\n",
            "Epoch 70/110\n",
            "1/1 [==============================] - 0s 121ms/step - loss: 0.9797 - val_loss: 1.0143\n",
            "Epoch 71/110\n",
            "1/1 [==============================] - 0s 111ms/step - loss: 0.9777 - val_loss: 1.0127\n",
            "Epoch 72/110\n",
            "1/1 [==============================] - 0s 113ms/step - loss: 0.9765 - val_loss: 1.0103\n",
            "Epoch 73/110\n",
            "1/1 [==============================] - 0s 122ms/step - loss: 0.9741 - val_loss: 1.0065\n",
            "Epoch 74/110\n",
            "1/1 [==============================] - 0s 101ms/step - loss: 0.9700 - val_loss: 1.0044\n",
            "Epoch 75/110\n",
            "1/1 [==============================] - 0s 111ms/step - loss: 0.9680 - val_loss: 1.0000\n",
            "Epoch 76/110\n",
            "1/1 [==============================] - 0s 115ms/step - loss: 0.9628 - val_loss: 0.9977\n",
            "Epoch 77/110\n",
            "1/1 [==============================] - 0s 108ms/step - loss: 0.9602 - val_loss: 0.9935\n",
            "Epoch 78/110\n",
            "1/1 [==============================] - 0s 107ms/step - loss: 0.9559 - val_loss: 0.9884\n",
            "Epoch 79/110\n",
            "1/1 [==============================] - 0s 89ms/step - loss: 0.9517 - val_loss: 0.9842\n",
            "Epoch 80/110\n",
            "1/1 [==============================] - 0s 114ms/step - loss: 0.9465 - val_loss: 0.9797\n",
            "Epoch 81/110\n",
            "1/1 [==============================] - 0s 119ms/step - loss: 0.9421 - val_loss: 0.9738\n",
            "Epoch 82/110\n",
            "1/1 [==============================] - 0s 124ms/step - loss: 0.9372 - val_loss: 0.9688\n",
            "Epoch 83/110\n",
            "1/1 [==============================] - 0s 130ms/step - loss: 0.9320 - val_loss: 0.9637\n",
            "Epoch 84/110\n",
            "1/1 [==============================] - 0s 108ms/step - loss: 0.9268 - val_loss: 0.9576\n",
            "Epoch 85/110\n",
            "1/1 [==============================] - 0s 114ms/step - loss: 0.9209 - val_loss: 0.9515\n",
            "Epoch 86/110\n",
            "1/1 [==============================] - 0s 98ms/step - loss: 0.9146 - val_loss: 0.9452\n",
            "Epoch 87/110\n",
            "1/1 [==============================] - 0s 107ms/step - loss: 0.9078 - val_loss: 0.9380\n",
            "Epoch 88/110\n",
            "1/1 [==============================] - 0s 111ms/step - loss: 0.9005 - val_loss: 0.9303\n",
            "Epoch 89/110\n",
            "1/1 [==============================] - 0s 68ms/step - loss: 0.8923 - val_loss: 0.9225\n",
            "Epoch 90/110\n",
            "1/1 [==============================] - 0s 81ms/step - loss: 0.8834 - val_loss: 0.9142\n",
            "Epoch 91/110\n",
            "1/1 [==============================] - 0s 93ms/step - loss: 0.8751 - val_loss: 0.9199\n",
            "Epoch 92/110\n",
            "1/1 [==============================] - 0s 128ms/step - loss: 0.8751 - val_loss: 0.9065\n",
            "Epoch 93/110\n",
            "1/1 [==============================] - 0s 115ms/step - loss: 0.8617 - val_loss: 0.8953\n",
            "Epoch 94/110\n",
            "1/1 [==============================] - 0s 105ms/step - loss: 0.8628 - val_loss: 0.9035\n",
            "Epoch 95/110\n",
            "1/1 [==============================] - 0s 122ms/step - loss: 0.8553 - val_loss: 0.9117\n",
            "Epoch 96/110\n",
            "1/1 [==============================] - 0s 89ms/step - loss: 0.8640 - val_loss: 0.9061\n",
            "Epoch 97/110\n",
            "1/1 [==============================] - 0s 79ms/step - loss: 0.8591 - val_loss: 0.8921\n",
            "Epoch 98/110\n",
            "1/1 [==============================] - 0s 108ms/step - loss: 0.8461 - val_loss: 0.8904\n",
            "Epoch 99/110\n",
            "1/1 [==============================] - 0s 109ms/step - loss: 0.8478 - val_loss: 0.8792\n",
            "Epoch 100/110\n",
            "1/1 [==============================] - 0s 127ms/step - loss: 0.8314 - val_loss: 0.8767\n",
            "Epoch 101/110\n",
            "1/1 [==============================] - 0s 90ms/step - loss: 0.8270 - val_loss: 0.8734\n",
            "Epoch 102/110\n",
            "1/1 [==============================] - 0s 101ms/step - loss: 0.8214 - val_loss: 0.8694\n",
            "Epoch 103/110\n",
            "1/1 [==============================] - 0s 109ms/step - loss: 0.8152 - val_loss: 0.8672\n",
            "Epoch 104/110\n",
            "1/1 [==============================] - 0s 93ms/step - loss: 0.8124 - val_loss: 0.8651\n",
            "Epoch 105/110\n",
            "1/1 [==============================] - 0s 98ms/step - loss: 0.8094 - val_loss: 0.8624\n",
            "Epoch 106/110\n",
            "1/1 [==============================] - 0s 107ms/step - loss: 0.8006 - val_loss: 0.8651\n",
            "Epoch 107/110\n",
            "1/1 [==============================] - 0s 105ms/step - loss: 0.7989 - val_loss: 0.8640\n",
            "Epoch 108/110\n",
            "1/1 [==============================] - 0s 104ms/step - loss: 0.7961 - val_loss: 0.8561\n",
            "Epoch 109/110\n",
            "1/1 [==============================] - 0s 128ms/step - loss: 0.7908 - val_loss: 0.8494\n",
            "Epoch 110/110\n",
            "1/1 [==============================] - 0s 110ms/step - loss: 0.7885 - val_loss: 0.8481\n"
          ]
        },
        {
          "output_type": "execute_result",
          "data": {
            "text/plain": [
              "<keras.src.callbacks.History at 0x7a929b1df790>"
            ]
          },
          "metadata": {},
          "execution_count": 44
        }
      ],
      "source": [
        "embedding_dim = 50\n",
        "vocab_size = len(word2idx) + 1\n",
        "\n",
        "model = Sequential([\n",
        "    Embedding(input_dim=vocab_size, output_dim=embedding_dim, input_length=max_len),\n",
        "    LSTM(units=128, return_sequences=True),\n",
        "    Dense(vocab_size, activation='softmax')\n",
        "])\n",
        "\n",
        "model.compile(optimizer='adam', loss='sparse_categorical_crossentropy')\n",
        "\n",
        "model.fit(X_train, y_train, validation_data=(X_val, y_val), epochs=110, batch_size=64)"
      ]
    },
    {
      "cell_type": "code",
      "execution_count": 45,
      "metadata": {
        "colab": {
          "base_uri": "https://localhost:8080/"
        },
        "id": "rzRPqAnywiEw",
        "outputId": "8aef67f8-ff09-45a5-9b7e-b93fbbdc551b"
      },
      "outputs": [
        {
          "output_type": "stream",
          "name": "stdout",
          "text": [
            "1/1 [==============================] - 1s 763ms/step\n"
          ]
        }
      ],
      "source": [
        "from nltk.metrics import edit_distance\n",
        "\n",
        "y_pred = model.predict(X_val)\n",
        "\n",
        "y_pred_tokens = [[idx2word[token] for token in sequence if token != 0] for sequence in np.argmax(y_pred, axis=-1)]\n",
        "y_val_tokens = [[idx2word[token] for token in sequence if token != 0] for sequence in y_val]\n",
        "\n",
        "def token_level_accuracy(y_true, y_pred):\n",
        "    correct = 0\n",
        "    total_tokens = 0\n",
        "    for true_seq, pred_seq in zip(y_true, y_pred):\n",
        "        total_tokens += len(true_seq)\n",
        "        for true_token, pred_token in zip(true_seq, pred_seq):\n",
        "            if true_token == pred_token:\n",
        "                correct += 1\n",
        "    return correct / total_tokens"
      ]
    },
    {
      "cell_type": "markdown",
      "metadata": {
        "id": "HDHmIYl111vE"
      },
      "source": [
        "#TASK 3: Use Transformer model"
      ]
    },
    {
      "cell_type": "code",
      "source": [
        "import tensorflow as tf\n",
        "from tensorflow.keras.models import Model\n",
        "from tensorflow.keras.layers import Input, Dense, Embedding\n",
        "from tensorflow.keras.losses import SparseCategoricalCrossentropy\n",
        "from tensorflow.keras.optimizers import Adam"
      ],
      "metadata": {
        "id": "ZM9yKNrxgT24"
      },
      "execution_count": 29,
      "outputs": []
    },
    {
      "cell_type": "code",
      "execution_count": 46,
      "metadata": {
        "id": "WQWHw9Z44pum"
      },
      "outputs": [],
      "source": [
        "class EncoderLayer(tf.keras.layers.Layer):\n",
        "    def __init__(self, units, d_model, num_heads, dropout, name=\"encoder_layer\"):\n",
        "        super(EncoderLayer, self).__init__(name=name)\n",
        "        self.mha = tf.keras.layers.MultiHeadAttention(num_heads=num_heads, key_dim=d_model)\n",
        "        self.ffn = tf.keras.Sequential([\n",
        "            tf.keras.layers.Dense(units, activation='relu'),\n",
        "            tf.keras.layers.Dense(d_model)\n",
        "        ])\n",
        "        self.layernorm1 = tf.keras.layers.LayerNormalization(epsilon=1e-6)\n",
        "        self.layernorm2 = tf.keras.layers.LayerNormalization(epsilon=1e-6)\n",
        "        self.dropout1 = tf.keras.layers.Dropout(dropout)\n",
        "        self.dropout2 = tf.keras.layers.Dropout(dropout)\n",
        "\n",
        "    def call(self, inputs, training=False):\n",
        "        attn_output = self.mha(inputs, inputs)\n",
        "        attn_output = self.dropout1(attn_output, training=training)\n",
        "        out1 = self.layernorm1(inputs + attn_output)\n",
        "        ffn_output = self.ffn(out1)\n",
        "        ffn_output = self.dropout2(ffn_output, training=training)\n",
        "        return self.layernorm2(out1 + ffn_output)\n",
        "\n"
      ]
    },
    {
      "cell_type": "code",
      "execution_count": 47,
      "metadata": {
        "id": "Nz7SaHN45CCT"
      },
      "outputs": [],
      "source": [
        "class DecoderLayer(tf.keras.layers.Layer):\n",
        "    def __init__(self, units, d_model, num_heads, dropout, name=\"decoder_layer\"):\n",
        "        super(DecoderLayer, self).__init__(name=name)\n",
        "        self.mha1 = tf.keras.layers.MultiHeadAttention(num_heads=num_heads, key_dim=d_model)\n",
        "        self.mha2 = tf.keras.layers.MultiHeadAttention(num_heads=num_heads, key_dim=d_model)\n",
        "        self.ffn = tf.keras.Sequential([\n",
        "            tf.keras.layers.Dense(units, activation='relu'),\n",
        "            tf.keras.layers.Dense(d_model)\n",
        "        ])\n",
        "        self.layernorm1 = tf.keras.layers.LayerNormalization(epsilon=1e-6)\n",
        "        self.layernorm2 = tf.keras.layers.LayerNormalization(epsilon=1e-6)\n",
        "        self.layernorm3 = tf.keras.layers.LayerNormalization(epsilon=1e-6)\n",
        "        self.dropout1 = tf.keras.layers.Dropout(dropout)\n",
        "        self.dropout2 = tf.keras.layers.Dropout(dropout)\n",
        "        self.dropout3 = tf.keras.layers.Dropout(dropout)\n",
        "\n",
        "    def call(self, inputs, enc_output, training=False):\n",
        "        attn1 = self.mha1(inputs, inputs)\n",
        "        attn1 = self.dropout1(attn1, training=training)\n",
        "        out1 = self.layernorm1(inputs + attn1)\n",
        "        attn2 = self.mha2(out1, enc_output)\n",
        "        attn2 = self.dropout2(attn2, training=training)\n",
        "        out2 = self.layernorm2(out1 + attn2)\n",
        "        ffn_output = self.ffn(out2)\n",
        "        ffn_output = self.dropout3(ffn_output, training=training)\n",
        "        return self.layernorm3(out2 + ffn_output)"
      ]
    },
    {
      "cell_type": "code",
      "execution_count": 48,
      "metadata": {
        "colab": {
          "base_uri": "https://localhost:8080/"
        },
        "id": "QejSKOOe4-Qr",
        "outputId": "5843b9f5-3032-48a6-f4cc-2a1bd5b4e98a"
      },
      "outputs": [
        {
          "output_type": "stream",
          "name": "stdout",
          "text": [
            "Epoch 1/160\n",
            "1/1 [==============================] - 70s 70s/step - loss: 4.3581 - val_loss: 2.6388\n",
            "Epoch 2/160\n",
            "1/1 [==============================] - 1s 1s/step - loss: 2.4948 - val_loss: 8.0117\n",
            "Epoch 3/160\n",
            "1/1 [==============================] - 1s 1s/step - loss: 7.7043 - val_loss: 1.4832\n",
            "Epoch 4/160\n",
            "1/1 [==============================] - 1s 1s/step - loss: 1.4014 - val_loss: 1.3112\n",
            "Epoch 5/160\n",
            "1/1 [==============================] - 1s 1s/step - loss: 1.2511 - val_loss: 1.1609\n",
            "Epoch 6/160\n",
            "1/1 [==============================] - 1s 1s/step - loss: 1.1475 - val_loss: 1.1894\n",
            "Epoch 7/160\n",
            "1/1 [==============================] - 1s 1s/step - loss: 1.1857 - val_loss: 1.0867\n",
            "Epoch 8/160\n",
            "1/1 [==============================] - 1s 1s/step - loss: 1.0616 - val_loss: 1.1401\n",
            "Epoch 9/160\n",
            "1/1 [==============================] - 1s 1s/step - loss: 1.0998 - val_loss: 1.1940\n",
            "Epoch 10/160\n",
            "1/1 [==============================] - 1s 1s/step - loss: 1.1461 - val_loss: 1.1775\n",
            "Epoch 11/160\n",
            "1/1 [==============================] - 1s 1s/step - loss: 1.1323 - val_loss: 1.1162\n",
            "Epoch 12/160\n",
            "1/1 [==============================] - 1s 1s/step - loss: 1.0835 - val_loss: 1.0713\n",
            "Epoch 13/160\n",
            "1/1 [==============================] - 1s 1s/step - loss: 1.0592 - val_loss: 1.0767\n",
            "Epoch 14/160\n",
            "1/1 [==============================] - 1s 1s/step - loss: 1.0781 - val_loss: 1.0734\n",
            "Epoch 15/160\n",
            "1/1 [==============================] - 1s 1s/step - loss: 1.0785 - val_loss: 1.0535\n",
            "Epoch 16/160\n",
            "1/1 [==============================] - 1s 1s/step - loss: 1.0502 - val_loss: 1.0580\n",
            "Epoch 17/160\n",
            "1/1 [==============================] - 1s 1s/step - loss: 1.0421 - val_loss: 1.0776\n",
            "Epoch 18/160\n",
            "1/1 [==============================] - 1s 1s/step - loss: 1.0552 - val_loss: 1.0876\n",
            "Epoch 19/160\n",
            "1/1 [==============================] - 1s 1s/step - loss: 1.0582 - val_loss: 1.0805\n",
            "Epoch 20/160\n",
            "1/1 [==============================] - 1s 1s/step - loss: 1.0533 - val_loss: 1.0659\n",
            "Epoch 21/160\n",
            "1/1 [==============================] - 1s 1s/step - loss: 1.0426 - val_loss: 1.0593\n",
            "Epoch 22/160\n",
            "1/1 [==============================] - 1s 1s/step - loss: 1.0446 - val_loss: 1.0631\n",
            "Epoch 23/160\n",
            "1/1 [==============================] - 1s 1s/step - loss: 1.0529 - val_loss: 1.0621\n",
            "Epoch 24/160\n",
            "1/1 [==============================] - 1s 1s/step - loss: 1.0514 - val_loss: 1.0543\n",
            "Epoch 25/160\n",
            "1/1 [==============================] - 1s 1s/step - loss: 1.0415 - val_loss: 1.0522\n",
            "Epoch 26/160\n",
            "1/1 [==============================] - 1s 1s/step - loss: 1.0343 - val_loss: 1.0572\n",
            "Epoch 27/160\n",
            "1/1 [==============================] - 1s 1s/step - loss: 1.0385 - val_loss: 1.0614\n",
            "Epoch 28/160\n",
            "1/1 [==============================] - 1s 1s/step - loss: 1.0386 - val_loss: 1.0597\n",
            "Epoch 29/160\n",
            "1/1 [==============================] - 1s 1s/step - loss: 1.0447 - val_loss: 1.0533\n",
            "Epoch 30/160\n",
            "1/1 [==============================] - 1s 1s/step - loss: 1.0390 - val_loss: 1.0471\n",
            "Epoch 31/160\n",
            "1/1 [==============================] - 1s 1s/step - loss: 1.0325 - val_loss: 1.0445\n",
            "Epoch 32/160\n",
            "1/1 [==============================] - 1s 1s/step - loss: 1.0371 - val_loss: 1.0449\n",
            "Epoch 33/160\n",
            "1/1 [==============================] - 1s 1s/step - loss: 1.0384 - val_loss: 1.0460\n",
            "Epoch 34/160\n",
            "1/1 [==============================] - 1s 1s/step - loss: 1.0388 - val_loss: 1.0478\n",
            "Epoch 35/160\n",
            "1/1 [==============================] - 1s 1s/step - loss: 1.0322 - val_loss: 1.0515\n",
            "Epoch 36/160\n",
            "1/1 [==============================] - 1s 1s/step - loss: 1.0345 - val_loss: 1.0561\n",
            "Epoch 37/160\n",
            "1/1 [==============================] - 1s 1s/step - loss: 1.0319 - val_loss: 1.0587\n",
            "Epoch 38/160\n",
            "1/1 [==============================] - 1s 1s/step - loss: 1.0358 - val_loss: 1.0578\n",
            "Epoch 39/160\n",
            "1/1 [==============================] - 1s 1s/step - loss: 1.0330 - val_loss: 1.0545\n",
            "Epoch 40/160\n",
            "1/1 [==============================] - 1s 1s/step - loss: 1.0321 - val_loss: 1.0512\n",
            "Epoch 41/160\n",
            "1/1 [==============================] - 1s 1s/step - loss: 1.0345 - val_loss: 1.0494\n",
            "Epoch 42/160\n",
            "1/1 [==============================] - 1s 1s/step - loss: 1.0305 - val_loss: 1.0484\n",
            "Epoch 43/160\n",
            "1/1 [==============================] - 1s 1s/step - loss: 1.0345 - val_loss: 1.0477\n",
            "Epoch 44/160\n",
            "1/1 [==============================] - 1s 1s/step - loss: 1.0345 - val_loss: 1.0477\n",
            "Epoch 45/160\n",
            "1/1 [==============================] - 1s 1s/step - loss: 1.0312 - val_loss: 1.0488\n",
            "Epoch 46/160\n",
            "1/1 [==============================] - 1s 1s/step - loss: 1.0277 - val_loss: 1.0501\n",
            "Epoch 47/160\n",
            "1/1 [==============================] - 1s 1s/step - loss: 1.0317 - val_loss: 1.0505\n",
            "Epoch 48/160\n",
            "1/1 [==============================] - 1s 1s/step - loss: 1.0320 - val_loss: 1.0493\n",
            "Epoch 49/160\n",
            "1/1 [==============================] - 1s 1s/step - loss: 1.0312 - val_loss: 1.0474\n",
            "Epoch 50/160\n",
            "1/1 [==============================] - 1s 1s/step - loss: 1.0287 - val_loss: 1.0456\n",
            "Epoch 51/160\n",
            "1/1 [==============================] - 1s 1s/step - loss: 1.0327 - val_loss: 1.0445\n",
            "Epoch 52/160\n",
            "1/1 [==============================] - 1s 1s/step - loss: 1.0328 - val_loss: 1.0442\n",
            "Epoch 53/160\n",
            "1/1 [==============================] - 1s 1s/step - loss: 1.0316 - val_loss: 1.0446\n",
            "Epoch 54/160\n",
            "1/1 [==============================] - 1s 1s/step - loss: 1.0294 - val_loss: 1.0458\n",
            "Epoch 55/160\n",
            "1/1 [==============================] - 1s 1s/step - loss: 1.0349 - val_loss: 1.0472\n",
            "Epoch 56/160\n",
            "1/1 [==============================] - 1s 1s/step - loss: 1.0316 - val_loss: 1.0483\n",
            "Epoch 57/160\n",
            "1/1 [==============================] - 1s 1s/step - loss: 1.0279 - val_loss: 1.0485\n",
            "Epoch 58/160\n",
            "1/1 [==============================] - 1s 1s/step - loss: 1.0300 - val_loss: 1.0480\n",
            "Epoch 59/160\n",
            "1/1 [==============================] - 1s 1s/step - loss: 1.0314 - val_loss: 1.0473\n",
            "Epoch 60/160\n",
            "1/1 [==============================] - 1s 1s/step - loss: 1.0283 - val_loss: 1.0470\n",
            "Epoch 61/160\n",
            "1/1 [==============================] - 1s 1s/step - loss: 1.0299 - val_loss: 1.0470\n",
            "Epoch 62/160\n",
            "1/1 [==============================] - 1s 1s/step - loss: 1.0331 - val_loss: 1.0472\n",
            "Epoch 63/160\n",
            "1/1 [==============================] - 1s 1s/step - loss: 1.0317 - val_loss: 1.0476\n",
            "Epoch 64/160\n",
            "1/1 [==============================] - 1s 1s/step - loss: 1.0317 - val_loss: 1.0480\n",
            "Epoch 65/160\n",
            "1/1 [==============================] - 1s 1s/step - loss: 1.0315 - val_loss: 1.0481\n",
            "Epoch 66/160\n",
            "1/1 [==============================] - 1s 1s/step - loss: 1.0293 - val_loss: 1.0477\n",
            "Epoch 67/160\n",
            "1/1 [==============================] - 1s 1s/step - loss: 1.0284 - val_loss: 1.0469\n",
            "Epoch 68/160\n",
            "1/1 [==============================] - 1s 1s/step - loss: 1.0304 - val_loss: 1.0461\n",
            "Epoch 69/160\n",
            "1/1 [==============================] - 1s 1s/step - loss: 1.0308 - val_loss: 1.0456\n",
            "Epoch 70/160\n",
            "1/1 [==============================] - 1s 1s/step - loss: 1.0305 - val_loss: 1.0455\n",
            "Epoch 71/160\n",
            "1/1 [==============================] - 1s 1s/step - loss: 1.0302 - val_loss: 1.0457\n",
            "Epoch 72/160\n",
            "1/1 [==============================] - 1s 1s/step - loss: 1.0291 - val_loss: 1.0462\n",
            "Epoch 73/160\n",
            "1/1 [==============================] - 1s 1s/step - loss: 1.0268 - val_loss: 1.0466\n",
            "Epoch 74/160\n",
            "1/1 [==============================] - 1s 1s/step - loss: 1.0314 - val_loss: 1.0469\n",
            "Epoch 75/160\n",
            "1/1 [==============================] - 1s 1s/step - loss: 1.0313 - val_loss: 1.0468\n",
            "Epoch 76/160\n",
            "1/1 [==============================] - 1s 1s/step - loss: 1.0294 - val_loss: 1.0465\n",
            "Epoch 77/160\n",
            "1/1 [==============================] - 1s 1s/step - loss: 1.0312 - val_loss: 1.0463\n",
            "Epoch 78/160\n",
            "1/1 [==============================] - 1s 1s/step - loss: 1.0269 - val_loss: 1.0462\n",
            "Epoch 79/160\n",
            "1/1 [==============================] - 1s 1s/step - loss: 1.0305 - val_loss: 1.0463\n",
            "Epoch 80/160\n",
            "1/1 [==============================] - 1s 1s/step - loss: 1.0276 - val_loss: 1.0465\n",
            "Epoch 81/160\n",
            "1/1 [==============================] - 1s 1s/step - loss: 1.0310 - val_loss: 1.0467\n",
            "Epoch 82/160\n",
            "1/1 [==============================] - 1s 1s/step - loss: 1.0270 - val_loss: 1.0468\n",
            "Epoch 83/160\n",
            "1/1 [==============================] - 1s 1s/step - loss: 1.0297 - val_loss: 1.0467\n",
            "Epoch 84/160\n",
            "1/1 [==============================] - 1s 1s/step - loss: 1.0268 - val_loss: 1.0465\n",
            "Epoch 85/160\n",
            "1/1 [==============================] - 1s 1s/step - loss: 1.0302 - val_loss: 1.0463\n",
            "Epoch 86/160\n",
            "1/1 [==============================] - 1s 1s/step - loss: 1.0311 - val_loss: 1.0461\n",
            "Epoch 87/160\n",
            "1/1 [==============================] - 1s 1s/step - loss: 1.0296 - val_loss: 1.0461\n",
            "Epoch 88/160\n",
            "1/1 [==============================] - 1s 1s/step - loss: 1.0290 - val_loss: 1.0462\n",
            "Epoch 89/160\n",
            "1/1 [==============================] - 1s 1s/step - loss: 1.0301 - val_loss: 1.0463\n",
            "Epoch 90/160\n",
            "1/1 [==============================] - 1s 1s/step - loss: 1.0301 - val_loss: 1.0465\n",
            "Epoch 91/160\n",
            "1/1 [==============================] - 1s 1s/step - loss: 1.0265 - val_loss: 1.0465\n",
            "Epoch 92/160\n",
            "1/1 [==============================] - 1s 1s/step - loss: 1.0272 - val_loss: 1.0464\n",
            "Epoch 93/160\n",
            "1/1 [==============================] - 1s 1s/step - loss: 1.0275 - val_loss: 1.0461\n",
            "Epoch 94/160\n",
            "1/1 [==============================] - 1s 1s/step - loss: 1.0271 - val_loss: 1.0461\n",
            "Epoch 95/160\n",
            "1/1 [==============================] - 1s 1s/step - loss: 1.0276 - val_loss: 1.0461\n",
            "Epoch 96/160\n",
            "1/1 [==============================] - 1s 1s/step - loss: 1.0270 - val_loss: 1.0462\n",
            "Epoch 97/160\n",
            "1/1 [==============================] - 1s 1s/step - loss: 1.0279 - val_loss: 1.0464\n",
            "Epoch 98/160\n",
            "1/1 [==============================] - 1s 1s/step - loss: 1.0296 - val_loss: 1.0465\n",
            "Epoch 99/160\n",
            "1/1 [==============================] - 1s 1s/step - loss: 1.0265 - val_loss: 1.0465\n",
            "Epoch 100/160\n",
            "1/1 [==============================] - 1s 1s/step - loss: 1.0250 - val_loss: 1.0462\n",
            "Epoch 101/160\n",
            "1/1 [==============================] - 1s 1s/step - loss: 1.0256 - val_loss: 1.0459\n",
            "Epoch 102/160\n",
            "1/1 [==============================] - 1s 1s/step - loss: 1.0281 - val_loss: 1.0456\n",
            "Epoch 103/160\n",
            "1/1 [==============================] - 1s 1s/step - loss: 1.0274 - val_loss: 1.0456\n",
            "Epoch 104/160\n",
            "1/1 [==============================] - 1s 1s/step - loss: 1.0249 - val_loss: 1.0458\n",
            "Epoch 105/160\n",
            "1/1 [==============================] - 1s 1s/step - loss: 1.0262 - val_loss: 1.0461\n",
            "Epoch 106/160\n",
            "1/1 [==============================] - 1s 1s/step - loss: 1.0297 - val_loss: 1.0463\n",
            "Epoch 107/160\n",
            "1/1 [==============================] - 1s 1s/step - loss: 1.0257 - val_loss: 1.0462\n",
            "Epoch 108/160\n",
            "1/1 [==============================] - 1s 1s/step - loss: 1.0292 - val_loss: 1.0461\n",
            "Epoch 109/160\n",
            "1/1 [==============================] - 1s 1s/step - loss: 1.0275 - val_loss: 1.0458\n",
            "Epoch 110/160\n",
            "1/1 [==============================] - 1s 1s/step - loss: 1.0288 - val_loss: 1.0457\n",
            "Epoch 111/160\n",
            "1/1 [==============================] - 1s 1s/step - loss: 1.0260 - val_loss: 1.0459\n",
            "Epoch 112/160\n",
            "1/1 [==============================] - 1s 1s/step - loss: 1.0287 - val_loss: 1.0461\n",
            "Epoch 113/160\n",
            "1/1 [==============================] - 1s 1s/step - loss: 1.0246 - val_loss: 1.0462\n",
            "Epoch 114/160\n",
            "1/1 [==============================] - 1s 1s/step - loss: 1.0243 - val_loss: 1.0461\n",
            "Epoch 115/160\n",
            "1/1 [==============================] - 1s 1s/step - loss: 1.0273 - val_loss: 1.0459\n",
            "Epoch 116/160\n",
            "1/1 [==============================] - 1s 1s/step - loss: 1.0253 - val_loss: 1.0457\n",
            "Epoch 117/160\n",
            "1/1 [==============================] - 1s 1s/step - loss: 1.0259 - val_loss: 1.0456\n",
            "Epoch 118/160\n",
            "1/1 [==============================] - 1s 1s/step - loss: 1.0289 - val_loss: 1.0457\n",
            "Epoch 119/160\n",
            "1/1 [==============================] - 1s 1s/step - loss: 1.0263 - val_loss: 1.0459\n",
            "Epoch 120/160\n",
            "1/1 [==============================] - 1s 1s/step - loss: 1.0254 - val_loss: 1.0460\n",
            "Epoch 121/160\n",
            "1/1 [==============================] - 1s 1s/step - loss: 1.0265 - val_loss: 1.0458\n",
            "Epoch 122/160\n",
            "1/1 [==============================] - 1s 1s/step - loss: 1.0265 - val_loss: 1.0456\n",
            "Epoch 123/160\n",
            "1/1 [==============================] - 1s 1s/step - loss: 1.0267 - val_loss: 1.0455\n",
            "Epoch 124/160\n",
            "1/1 [==============================] - 1s 1s/step - loss: 1.0279 - val_loss: 1.0455\n",
            "Epoch 125/160\n",
            "1/1 [==============================] - 1s 1s/step - loss: 1.0263 - val_loss: 1.0455\n",
            "Epoch 126/160\n",
            "1/1 [==============================] - 1s 1s/step - loss: 1.0252 - val_loss: 1.0454\n",
            "Epoch 127/160\n",
            "1/1 [==============================] - 1s 1s/step - loss: 1.0248 - val_loss: 1.0452\n",
            "Epoch 128/160\n",
            "1/1 [==============================] - 1s 1s/step - loss: 1.0246 - val_loss: 1.0453\n",
            "Epoch 129/160\n",
            "1/1 [==============================] - 1s 1s/step - loss: 1.0248 - val_loss: 1.0454\n",
            "Epoch 130/160\n",
            "1/1 [==============================] - 1s 1s/step - loss: 1.0247 - val_loss: 1.0454\n",
            "Epoch 131/160\n",
            "1/1 [==============================] - 1s 1s/step - loss: 1.0257 - val_loss: 1.0452\n",
            "Epoch 132/160\n",
            "1/1 [==============================] - 1s 1s/step - loss: 1.0260 - val_loss: 1.0449\n",
            "Epoch 133/160\n",
            "1/1 [==============================] - 1s 1s/step - loss: 1.0252 - val_loss: 1.0446\n",
            "Epoch 134/160\n",
            "1/1 [==============================] - 1s 1s/step - loss: 1.0261 - val_loss: 1.0444\n",
            "Epoch 135/160\n",
            "1/1 [==============================] - 1s 1s/step - loss: 1.0233 - val_loss: 1.0444\n",
            "Epoch 136/160\n",
            "1/1 [==============================] - 1s 1s/step - loss: 1.0237 - val_loss: 1.0445\n",
            "Epoch 137/160\n",
            "1/1 [==============================] - 1s 1s/step - loss: 1.0237 - val_loss: 1.0445\n",
            "Epoch 138/160\n",
            "1/1 [==============================] - 1s 1s/step - loss: 1.0238 - val_loss: 1.0442\n",
            "Epoch 139/160\n",
            "1/1 [==============================] - 1s 1s/step - loss: 1.0233 - val_loss: 1.0437\n",
            "Epoch 140/160\n",
            "1/1 [==============================] - 1s 1s/step - loss: 1.0253 - val_loss: 1.0431\n",
            "Epoch 141/160\n",
            "1/1 [==============================] - 1s 1s/step - loss: 1.0256 - val_loss: 1.0428\n",
            "Epoch 142/160\n",
            "1/1 [==============================] - 1s 1s/step - loss: 1.0249 - val_loss: 1.0429\n",
            "Epoch 143/160\n",
            "1/1 [==============================] - 1s 1s/step - loss: 1.0224 - val_loss: 1.0429\n",
            "Epoch 144/160\n",
            "1/1 [==============================] - 1s 1s/step - loss: 1.0241 - val_loss: 1.0427\n",
            "Epoch 145/160\n",
            "1/1 [==============================] - 1s 1s/step - loss: 1.0237 - val_loss: 1.0418\n",
            "Epoch 146/160\n",
            "1/1 [==============================] - 1s 1s/step - loss: 1.0216 - val_loss: 1.0409\n",
            "Epoch 147/160\n",
            "1/1 [==============================] - 1s 1s/step - loss: 1.0229 - val_loss: 1.0399\n",
            "Epoch 148/160\n",
            "1/1 [==============================] - 1s 1s/step - loss: 1.0197 - val_loss: 1.0393\n",
            "Epoch 149/160\n",
            "1/1 [==============================] - 1s 1s/step - loss: 1.0192 - val_loss: 1.0417\n",
            "Epoch 150/160\n",
            "1/1 [==============================] - 1s 1s/step - loss: 1.0224 - val_loss: 1.0402\n",
            "Epoch 151/160\n",
            "1/1 [==============================] - 1s 1s/step - loss: 1.0180 - val_loss: 1.0401\n",
            "Epoch 152/160\n",
            "1/1 [==============================] - 1s 1s/step - loss: 1.0220 - val_loss: 1.0373\n",
            "Epoch 153/160\n",
            "1/1 [==============================] - 1s 1s/step - loss: 1.0194 - val_loss: 1.0204\n",
            "Epoch 154/160\n",
            "1/1 [==============================] - 1s 1s/step - loss: 1.0067 - val_loss: 1.0561\n",
            "Epoch 155/160\n",
            "1/1 [==============================] - 1s 1s/step - loss: 1.0333 - val_loss: 1.0500\n",
            "Epoch 156/160\n",
            "1/1 [==============================] - 1s 1s/step - loss: 1.0314 - val_loss: 1.0434\n",
            "Epoch 157/160\n",
            "1/1 [==============================] - 1s 1s/step - loss: 1.0251 - val_loss: 1.0486\n",
            "Epoch 158/160\n",
            "1/1 [==============================] - 1s 1s/step - loss: 1.0269 - val_loss: 1.0550\n",
            "Epoch 159/160\n",
            "1/1 [==============================] - 1s 1s/step - loss: 1.0323 - val_loss: 1.0608\n",
            "Epoch 160/160\n",
            "1/1 [==============================] - 1s 1s/step - loss: 1.0304 - val_loss: 1.0553\n"
          ]
        },
        {
          "output_type": "execute_result",
          "data": {
            "text/plain": [
              "<keras.src.callbacks.History at 0x7a926c8b3700>"
            ]
          },
          "metadata": {},
          "execution_count": 48
        }
      ],
      "source": [
        "def transformer_model(vocab_size, num_layers, units, d_model, num_heads, dropout, name=\"transformer\"):\n",
        "    inputs = Input(shape=(None,), name=\"inputs\")\n",
        "    dec_inputs = Input(shape=(None,), name=\"dec_inputs\")\n",
        "\n",
        "    enc_embedding = Embedding(input_dim=vocab_size, output_dim=d_model)(inputs)\n",
        "    dec_embedding = Embedding(input_dim=vocab_size, output_dim=d_model)(dec_inputs)\n",
        "\n",
        "    enc_output = enc_embedding\n",
        "    for i in range(num_layers):\n",
        "        enc_output = EncoderLayer(units, d_model, num_heads, dropout, name=\"encoder_layer_{}\".format(i))(enc_output)\n",
        "\n",
        "    dec_output = dec_embedding\n",
        "    for i in range(num_layers):\n",
        "        dec_output = DecoderLayer(units, d_model, num_heads, dropout, name=\"decoder_layer_{}\".format(i))(dec_output, enc_output)\n",
        "\n",
        "    outputs = Dense(vocab_size, activation='softmax', name=\"outputs\")(dec_output)\n",
        "\n",
        "    return Model(inputs=[inputs, dec_inputs], outputs=outputs, name=name)\n",
        "\n",
        "vocab_size = len(word2idx) + 1\n",
        "num_layers = 4\n",
        "units = 512\n",
        "d_model = 256\n",
        "num_heads = 8\n",
        "dropout = 0.1\n",
        "\n",
        "model = transformer_model(vocab_size, num_layers, units, d_model, num_heads, dropout)\n",
        "model.compile(optimizer=Adam(), loss=SparseCategoricalCrossentropy())\n",
        "model.fit([X_train, y_train[:, :-1]], y_train[:, 1:], validation_data=([X_val, y_val[:, :-1]], y_val[:, 1:]), epochs=160, batch_size=64)"
      ]
    },
    {
      "cell_type": "code",
      "source": [
        "import matplotlib.pyplot as plt\n",
        "\n",
        "def generate_data(x):\n",
        "    return np.sin(x)\n",
        "\n",
        "x = np.linspace(-2*np.pi, 2*np.pi, 400)\n",
        "y = generate_data(x)\n",
        "x_train, x_test, y_train, y_test = train_test_split(x, y, test_size=0.2, random_state=42)\n",
        "\n",
        "x_train, x_test = x_train.reshape(-1, 1), x_test.reshape(-1, 1)\n",
        "\n",
        "model = Sequential([\n",
        "    Dense(64, activation='relu', input_shape=(1,)),\n",
        "    Dense(64, activation='relu'),\n",
        "    Dense(1)\n",
        "])\n",
        "\n",
        "model.compile(optimizer=Adam(learning_rate=0.001), loss='mean_squared_error')\n",
        "\n",
        "history = model.fit(x_train, y_train, epochs=100, batch_size=32, validation_split=0.2, verbose=0)\n"
      ],
      "metadata": {
        "id": "fwbhf0TMIrM2"
      },
      "execution_count": 49,
      "outputs": []
    },
    {
      "cell_type": "code",
      "source": [
        "predictions = model.predict(x_test)\n",
        "\n",
        "plt.scatter(x_test, y_test, color='blue', label='Actual')\n",
        "plt.scatter(x_test, predictions, color='red', label='Predicted')\n",
        "plt.title('Function Approximation')\n",
        "plt.legend()\n",
        "plt.show()"
      ],
      "metadata": {
        "colab": {
          "base_uri": "https://localhost:8080/",
          "height": 470
        },
        "id": "8NHvD5-xg2iq",
        "outputId": "4059bc7b-1003-4549-f7a6-a74fab12a101"
      },
      "execution_count": 51,
      "outputs": [
        {
          "output_type": "stream",
          "name": "stdout",
          "text": [
            "3/3 [==============================] - 0s 4ms/step\n"
          ]
        },
        {
          "output_type": "display_data",
          "data": {
            "text/plain": [
              "<Figure size 640x480 with 1 Axes>"
            ],
            "image/png": "[encoded data removed]"
          },
          "metadata": {}
        }
      ]
    },
    {
      "cell_type": "code",
      "source": [
        "functions = [\n",
        "    np.sin,\n",
        "    np.cos,\n",
        "    lambda x: x**2,\n",
        "    np.tanh,\n",
        "]\n",
        "\n",
        "x_range = np.linspace(-2*np.pi, 2*np.pi, 400)\n",
        "\n",
        "for func in functions:\n",
        "    y = func(x_range)\n",
        "    x_train, x_test, y_train, y_test = train_test_split(x_range, y, test_size=0.2, random_state=42)\n",
        "\n",
        "    x_train, x_test = x_train.reshape(-1, 1), x_test.reshape(-1, 1)\n",
        "\n",
        "    model = Sequential([\n",
        "        Dense(64, activation='relu', input_shape=(1,)),\n",
        "        Dense(64, activation='relu'),\n",
        "        Dense(1)\n",
        "    ])\n",
        "\n",
        "    model.compile(optimizer=Adam(learning_rate=0.001), loss='mean_squared_error')\n",
        "\n",
        "    history = model.fit(x_train, y_train, epochs=100, batch_size=32, validation_split=0.2, verbose=0)"
      ],
      "metadata": {
        "id": "Co5nWcGsSci1"
      },
      "execution_count": 35,
      "outputs": []
    },
    {
      "cell_type": "code",
      "source": [
        "\n",
        "    plt.figure(figsize=(10, 4))\n",
        "    plt.subplot(1, 2, 1)\n",
        "    plt.plot(history.history['loss'], label='Train Loss')\n",
        "    plt.plot(history.history['val_loss'], label='Validation Loss')\n",
        "    plt.title('Loss vs. Epoch for {}'.format(func.__name__))\n",
        "    plt.ylabel('Loss')\n",
        "    plt.xlabel('Epoch')\n",
        "    plt.legend()\n",
        "\n",
        "    predictions = model.predict(x_test)\n",
        "\n",
        "    plt.subplot(1, 2, 2)\n",
        "    plt.scatter(x_test, y_test, color='blue', label='Actual')\n",
        "    plt.scatter(x_test, predictions, color='red', label='Predicted')\n",
        "    plt.title('Function Approximation for {}'.format(func.__name__))\n",
        "    plt.legend()\n",
        "    plt.tight_layout()\n",
        "    plt.show()\n"
      ],
      "metadata": {
        "colab": {
          "base_uri": "https://localhost:8080/",
          "height": 425
        },
        "id": "o5LgLFvAhNkY",
        "outputId": "a3b965a8-0c25-4ec4-88e9-2e9f531abff5"
      },
      "execution_count": 36,
      "outputs": [
        {
          "output_type": "stream",
          "name": "stdout",
          "text": [
            "3/3 [==============================] - 0s 4ms/step\n"
          ]
        },
        {
          "output_type": "display_data",
          "data": {
            "text/plain": [
              "<Figure size 1000x400 with 2 Axes>"
            ],
            "image/png": "[encoded data removed]"
          },
          "metadata": {}
        }
      ]
    }
  ],
  "metadata": {
    "colab": {
      "provenance": [],
      "gpuType": "T4"
    },
    "kernelspec": {
      "display_name": "Python 3",
      "name": "python3"
    },
    "language_info": {
      "name": "python"
    },
    "accelerator": "GPU"
  },
  "nbformat": 4,
  "nbformat_minor": 0
}